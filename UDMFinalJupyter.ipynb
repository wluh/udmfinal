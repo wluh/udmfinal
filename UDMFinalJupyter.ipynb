{
  "cells": [
    {
      "cell_type": "code",
      "execution_count": null,
      "id": "a5e50294",
      "metadata": {
        "id": "a5e50294"
      },
      "outputs": [],
      "source": [
        "import pandas as pd"
      ]
    },
    {
      "cell_type": "code",
      "source": [
        "from google.colab import drive\n",
        "drive.mount('/content/drive')"
      ],
      "metadata": {
        "id": "tYApSf4WDO0v"
      },
      "id": "tYApSf4WDO0v",
      "execution_count": null,
      "outputs": []
    },
    {
      "cell_type": "code",
      "source": [
        "mar10 = pd.read_csv(r'/content/drive/MyDrive/UDMFinal/noise/311_noise_mar10.csv')\n",
        "mar11 = pd.read_csv(r'/content/drive/MyDrive/UDMFinal/noise/311_noise_mar11.csv')\n",
        "mar12 = pd.read_csv(r'/content/drive/MyDrive/UDMFinal/noise/311_noise_mar12.csv')\n",
        "mar13 = pd.read_csv(r'/content/drive/MyDrive/UDMFinal/noise/311_noise_mar13.csv')\n",
        "mar14 = pd.read_csv(r'/content/drive/MyDrive/UDMFinal/noise/311_noise_mar14.csv')\n",
        "mar15 = pd.read_csv(r'/content/drive/MyDrive/UDMFinal/noise/311_noise_mar15.csv')\n",
        "mar16 = pd.read_csv(r'/content/drive/MyDrive/UDMFinal/noise/311_noise_mar16.csv')\n",
        "mar17 = pd.read_csv(r'/content/drive/MyDrive/UDMFinal/noise/311_noise_mar17.csv')\n",
        "mar18 = pd.read_csv(r'/content/drive/MyDrive/UDMFinal/noise/311_noise_mar18.csv')\n",
        "mar19 = pd.read_csv(r'/content/drive/MyDrive/UDMFinal/noise/311_noise_mar19.csv')\n",
        "mar20 = pd.read_csv(r'/content/drive/MyDrive/UDMFinal/noise/311_noise_mar20.csv')\n",
        "mar21 = pd.read_csv(r'/content/drive/MyDrive/UDMFinal/noise/311_noise_mar21.csv')\n",
        "mar22 = pd.read_csv(r'/content/drive/MyDrive/UDMFinal/noise/311_noise_mar22.csv')\n",
        "oct10 = pd.read_csv(r'/content/drive/MyDrive/UDMFinal/noise/311_noise_oct10.csv')\n",
        "oct11 = pd.read_csv(r'/content/drive/MyDrive/UDMFinal/noise/311_noise_oct11.csv')\n",
        "oct12 = pd.read_csv(r'/content/drive/MyDrive/UDMFinal/noise/311_noise_oct12.csv')\n",
        "oct13 = pd.read_csv(r'/content/drive/MyDrive/UDMFinal/noise/311_noise_oct13.csv')\n",
        "oct14 = pd.read_csv(r'/content/drive/MyDrive/UDMFinal/noise/311_noise_oct14.csv')\n",
        "oct15 = pd.read_csv(r'/content/drive/MyDrive/UDMFinal/noise/311_noise_oct15.csv')\n",
        "oct16 = pd.read_csv(r'/content/drive/MyDrive/UDMFinal/noise/311_noise_oct16.csv')\n",
        "oct17 = pd.read_csv(r'/content/drive/MyDrive/UDMFinal/noise/311_noise_oct17.csv')\n",
        "oct18 = pd.read_csv(r'/content/drive/MyDrive/UDMFinal/noise/311_noise_oct18.csv')\n",
        "oct19 = pd.read_csv(r'/content/drive/MyDrive/UDMFinal/noise/311_noise_oct19.csv')\n",
        "oct20 = pd.read_csv(r'/content/drive/MyDrive/UDMFinal/noise/311_noise_oct20.csv')\n",
        "oct21 = pd.read_csv(r'/content/drive/MyDrive/UDMFinal/noise/311_noise_oct21.csv')\n",
        "oct22 = pd.read_csv(r'/content/drive/MyDrive/UDMFinal/noise/311_noise_oct22.csv')"
      ],
      "metadata": {
        "id": "wwi8Jg3Jb3nb"
      },
      "id": "wwi8Jg3Jb3nb",
      "execution_count": null,
      "outputs": []
    },
    {
      "cell_type": "code",
      "execution_count": null,
      "id": "58e41259",
      "metadata": {
        "id": "58e41259"
      },
      "outputs": [],
      "source": [
        "noise = [mar10, mar11, mar12, mar13, mar14, mar15, mar16, mar17, mar18, mar19, mar20, mar21, mar22,\n",
        "         oct10, oct11, oct12, oct13, oct14, oct15, oct16, oct17, oct18, oct19, oct20, oct21, oct22]"
      ]
    },
    {
      "cell_type": "code",
      "source": [
        "noise10 = oct10\n",
        "noise16 = oct16\n",
        "noise22 = oct22\n",
        "\n",
        "noise_years = [noise10, noise16, noise22]"
      ],
      "metadata": {
        "id": "GLUjA_5wwlRP"
      },
      "id": "GLUjA_5wwlRP",
      "execution_count": null,
      "outputs": []
    },
    {
      "cell_type": "code",
      "source": [
        "def get_noise_year(input):\n",
        "  return input['Created Date'][6:10]\n",
        "def get_noise_half(input):\n",
        "  month = input['Created Date'][0:2]\n",
        "  if month == \"04\":\n",
        "    return 1\n",
        "  if month == \"10\":\n",
        "    return 2\n",
        "  return -1"
      ],
      "metadata": {
        "id": "0za_A4IodxDc"
      },
      "id": "0za_A4IodxDc",
      "execution_count": null,
      "outputs": []
    },
    {
      "cell_type": "code",
      "source": [
        "for year in noise_years:\n",
        "  year['YEAR'] = year.apply(lambda row: get_noise_year(row), axis=1)\n",
        "  year['SEASON'] = year.apply(lambda row: get_noise_half(row), axis=1)"
      ],
      "metadata": {
        "id": "FaUEolpteQik"
      },
      "id": "FaUEolpteQik",
      "execution_count": null,
      "outputs": []
    },
    {
      "cell_type": "code",
      "source": [
        "noise10.to_csv(\"/content/drive/MyDrive/UDMFinal/noise10.csv\", sep=',')\n",
        "noise16.to_csv(\"/content/drive/MyDrive/UDMFinal/noise16.csv\", sep=',')\n",
        "noise22.to_csv(\"/content/drive/MyDrive/UDMFinal/noise22.csv\", sep=',')"
      ],
      "metadata": {
        "id": "XkNTr1XwdQ9S"
      },
      "id": "XkNTr1XwdQ9S",
      "execution_count": null,
      "outputs": []
    },
    {
      "cell_type": "code",
      "source": [
        "for year in noise_years:\n",
        "  print(year.shape)"
      ],
      "metadata": {
        "id": "3Dmasch3vyJg"
      },
      "id": "3Dmasch3vyJg",
      "execution_count": null,
      "outputs": []
    },
    {
      "cell_type": "code",
      "execution_count": null,
      "id": "dee2fcb4",
      "metadata": {
        "id": "dee2fcb4"
      },
      "outputs": [],
      "source": [
        "trees = pd.read_csv(r'/content/drive/MyDrive/UDMFinal/trees.csv')"
      ]
    },
    {
      "cell_type": "code",
      "execution_count": null,
      "id": "a483ada2",
      "metadata": {
        "id": "a483ada2"
      },
      "outputs": [],
      "source": [
        "def get_season(input):\n",
        "  return input['PlntSeas'][:-2]\n",
        "\n",
        "def get_year(input):\n",
        "  return int(input['PlntSeas'][-2:]) + 2000"
      ]
    },
    {
      "cell_type": "code",
      "execution_count": null,
      "id": "0aecbbde",
      "metadata": {
        "id": "0aecbbde"
      },
      "outputs": [],
      "source": [
        "trees['SEASON'] = trees.apply(lambda row: get_season(row), axis=1)\n",
        "trees['YEAR'] = trees.apply(lambda row: get_year(row), axis=1)"
      ]
    },
    {
      "cell_type": "code",
      "execution_count": null,
      "id": "9140d0f4",
      "metadata": {
        "id": "9140d0f4"
      },
      "outputs": [],
      "source": [
        "trees.head()"
      ]
    },
    {
      "cell_type": "code",
      "source": [
        "trees2010 = trees[trees['YEAR'] <= 2013]\n",
        "trees2016 = trees[trees['YEAR'] <= 2017]\n",
        "trees2022 = trees[trees['YEAR'] <= 2022]"
      ],
      "metadata": {
        "id": "AC-7zB871VAB"
      },
      "id": "AC-7zB871VAB",
      "execution_count": null,
      "outputs": []
    },
    {
      "cell_type": "code",
      "source": [
        "trees2022.shape"
      ],
      "metadata": {
        "id": "VIbeigfK2P6Q"
      },
      "id": "VIbeigfK2P6Q",
      "execution_count": null,
      "outputs": []
    },
    {
      "cell_type": "code",
      "execution_count": null,
      "id": "53992d5e",
      "metadata": {
        "id": "53992d5e"
      },
      "outputs": [],
      "source": [
        "trees2010.to_csv(\"/content/drive/MyDrive/UDMFinal/tree2010.csv\", sep=',')\n",
        "trees2016.to_csv(\"/content/drive/MyDrive/UDMFinal/tree2016.csv\", sep=',')\n",
        "trees2022.to_csv(\"/content/drive/MyDrive/UDMFinal/tree2022.csv\", sep=',')"
      ]
    },
    {
      "cell_type": "code",
      "execution_count": null,
      "id": "5b2d4439",
      "metadata": {
        "id": "5b2d4439"
      },
      "outputs": [],
      "source": [
        "rent = pd.read_csv(r'/content/drive/MyDrive/UDMFinal/rent.csv')"
      ]
    },
    {
      "cell_type": "code",
      "execution_count": null,
      "id": "5c8ad6d2",
      "metadata": {
        "id": "5c8ad6d2"
      },
      "outputs": [],
      "source": [
        "rent"
      ]
    },
    {
      "cell_type": "code",
      "execution_count": null,
      "id": "080b026b",
      "metadata": {
        "id": "080b026b"
      },
      "outputs": [],
      "source": [
        "rent = rent[rent['AreaType'] == 'submarket']"
      ]
    },
    {
      "cell_type": "code",
      "execution_count": null,
      "id": "57348f1c",
      "metadata": {
        "id": "57348f1c"
      },
      "outputs": [],
      "source": [
        "rent"
      ]
    }
  ],
  "metadata": {
    "kernelspec": {
      "display_name": "Python 3 (ipykernel)",
      "language": "python",
      "name": "python3"
    },
    "language_info": {
      "codemirror_mode": {
        "name": "ipython",
        "version": 3
      },
      "file_extension": ".py",
      "mimetype": "text/x-python",
      "name": "python",
      "nbconvert_exporter": "python",
      "pygments_lexer": "ipython3",
      "version": "3.9.13"
    },
    "colab": {
      "provenance": [],
      "private_outputs": true
    },
    "gpuClass": "standard"
  },
  "nbformat": 4,
  "nbformat_minor": 5
}